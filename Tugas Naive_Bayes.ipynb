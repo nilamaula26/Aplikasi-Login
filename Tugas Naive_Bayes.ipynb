{
  "nbformat": 4,
  "nbformat_minor": 0,
  "metadata": {
    "colab": {
      "provenance": [],
      "authorship_tag": "ABX9TyOYvTlNMIeFJpNdZO73nR6u",
      "include_colab_link": true
    },
    "kernelspec": {
      "name": "python3",
      "display_name": "Python 3"
    },
    "language_info": {
      "name": "python"
    }
  },
  "cells": [
    {
      "cell_type": "markdown",
      "metadata": {
        "id": "view-in-github",
        "colab_type": "text"
      },
      "source": [
        "<a href=\"https://colab.research.google.com/github/nilamaula26/Praktikum-Kuliah/blob/main/Tugas%20Naive_Bayes.ipynb\" target=\"_parent\"><img src=\"https://colab.research.google.com/assets/colab-badge.svg\" alt=\"Open In Colab\"/></a>"
      ]
    },
    {
      "cell_type": "code",
      "source": [
        "import pandas as pd\n",
        "import seaborn as sns\n",
        "import matplotlib.pyplot as plt\n",
        "import numpy as np\n",
        "df = pd.read_excel('/content/Naive Bayes.xlsx')\n",
        "df.head()"
      ],
      "metadata": {
        "colab": {
          "base_uri": "https://localhost:8080/",
          "height": 206
        },
        "id": "f3mZDYb_ShlK",
        "outputId": "9f61dbd0-cd86-45e9-d7d8-5536d9384c1e"
      },
      "execution_count": 1,
      "outputs": [
        {
          "output_type": "execute_result",
          "data": {
            "text/plain": [
              "   ipk_4 jenis_kelamin  kota_lahir tipe_sekolah kota_sekolah   lama_studi\n",
              "0      3     Perempuan   Luar Kota     Kejuruan    Luar Kota  Tepat Waktu\n",
              "1      3     Perempuan   Luar Kota         Umum    Luar Kota  Tepat Waktu\n",
              "2      3     Perempuan  Dalam Kota         Umum   Dalam Kota  Tepat Waktu\n",
              "3      3     Laki-Laki  Dalam Kota         Umum   Dalam Kota  Tepat Waktu\n",
              "4      2     Perempuan  Dalam Kota         Umum   Dalam Kota  Tepat Waktu"
            ],
            "text/html": [
              "\n",
              "  <div id=\"df-ceeb0d7c-5dd2-47ce-8ef3-e846e7d7f11d\" class=\"colab-df-container\">\n",
              "    <div>\n",
              "<style scoped>\n",
              "    .dataframe tbody tr th:only-of-type {\n",
              "        vertical-align: middle;\n",
              "    }\n",
              "\n",
              "    .dataframe tbody tr th {\n",
              "        vertical-align: top;\n",
              "    }\n",
              "\n",
              "    .dataframe thead th {\n",
              "        text-align: right;\n",
              "    }\n",
              "</style>\n",
              "<table border=\"1\" class=\"dataframe\">\n",
              "  <thead>\n",
              "    <tr style=\"text-align: right;\">\n",
              "      <th></th>\n",
              "      <th>ipk_4</th>\n",
              "      <th>jenis_kelamin</th>\n",
              "      <th>kota_lahir</th>\n",
              "      <th>tipe_sekolah</th>\n",
              "      <th>kota_sekolah</th>\n",
              "      <th>lama_studi</th>\n",
              "    </tr>\n",
              "  </thead>\n",
              "  <tbody>\n",
              "    <tr>\n",
              "      <th>0</th>\n",
              "      <td>3</td>\n",
              "      <td>Perempuan</td>\n",
              "      <td>Luar Kota</td>\n",
              "      <td>Kejuruan</td>\n",
              "      <td>Luar Kota</td>\n",
              "      <td>Tepat Waktu</td>\n",
              "    </tr>\n",
              "    <tr>\n",
              "      <th>1</th>\n",
              "      <td>3</td>\n",
              "      <td>Perempuan</td>\n",
              "      <td>Luar Kota</td>\n",
              "      <td>Umum</td>\n",
              "      <td>Luar Kota</td>\n",
              "      <td>Tepat Waktu</td>\n",
              "    </tr>\n",
              "    <tr>\n",
              "      <th>2</th>\n",
              "      <td>3</td>\n",
              "      <td>Perempuan</td>\n",
              "      <td>Dalam Kota</td>\n",
              "      <td>Umum</td>\n",
              "      <td>Dalam Kota</td>\n",
              "      <td>Tepat Waktu</td>\n",
              "    </tr>\n",
              "    <tr>\n",
              "      <th>3</th>\n",
              "      <td>3</td>\n",
              "      <td>Laki-Laki</td>\n",
              "      <td>Dalam Kota</td>\n",
              "      <td>Umum</td>\n",
              "      <td>Dalam Kota</td>\n",
              "      <td>Tepat Waktu</td>\n",
              "    </tr>\n",
              "    <tr>\n",
              "      <th>4</th>\n",
              "      <td>2</td>\n",
              "      <td>Perempuan</td>\n",
              "      <td>Dalam Kota</td>\n",
              "      <td>Umum</td>\n",
              "      <td>Dalam Kota</td>\n",
              "      <td>Tepat Waktu</td>\n",
              "    </tr>\n",
              "  </tbody>\n",
              "</table>\n",
              "</div>\n",
              "    <div class=\"colab-df-buttons\">\n",
              "\n",
              "  <div class=\"colab-df-container\">\n",
              "    <button class=\"colab-df-convert\" onclick=\"convertToInteractive('df-ceeb0d7c-5dd2-47ce-8ef3-e846e7d7f11d')\"\n",
              "            title=\"Convert this dataframe to an interactive table.\"\n",
              "            style=\"display:none;\">\n",
              "\n",
              "  <svg xmlns=\"http://www.w3.org/2000/svg\" height=\"24px\" viewBox=\"0 -960 960 960\">\n",
              "    <path d=\"M120-120v-720h720v720H120Zm60-500h600v-160H180v160Zm220 220h160v-160H400v160Zm0 220h160v-160H400v160ZM180-400h160v-160H180v160Zm440 0h160v-160H620v160ZM180-180h160v-160H180v160Zm440 0h160v-160H620v160Z\"/>\n",
              "  </svg>\n",
              "    </button>\n",
              "\n",
              "  <style>\n",
              "    .colab-df-container {\n",
              "      display:flex;\n",
              "      gap: 12px;\n",
              "    }\n",
              "\n",
              "    .colab-df-convert {\n",
              "      background-color: #E8F0FE;\n",
              "      border: none;\n",
              "      border-radius: 50%;\n",
              "      cursor: pointer;\n",
              "      display: none;\n",
              "      fill: #1967D2;\n",
              "      height: 32px;\n",
              "      padding: 0 0 0 0;\n",
              "      width: 32px;\n",
              "    }\n",
              "\n",
              "    .colab-df-convert:hover {\n",
              "      background-color: #E2EBFA;\n",
              "      box-shadow: 0px 1px 2px rgba(60, 64, 67, 0.3), 0px 1px 3px 1px rgba(60, 64, 67, 0.15);\n",
              "      fill: #174EA6;\n",
              "    }\n",
              "\n",
              "    .colab-df-buttons div {\n",
              "      margin-bottom: 4px;\n",
              "    }\n",
              "\n",
              "    [theme=dark] .colab-df-convert {\n",
              "      background-color: #3B4455;\n",
              "      fill: #D2E3FC;\n",
              "    }\n",
              "\n",
              "    [theme=dark] .colab-df-convert:hover {\n",
              "      background-color: #434B5C;\n",
              "      box-shadow: 0px 1px 3px 1px rgba(0, 0, 0, 0.15);\n",
              "      filter: drop-shadow(0px 1px 2px rgba(0, 0, 0, 0.3));\n",
              "      fill: #FFFFFF;\n",
              "    }\n",
              "  </style>\n",
              "\n",
              "    <script>\n",
              "      const buttonEl =\n",
              "        document.querySelector('#df-ceeb0d7c-5dd2-47ce-8ef3-e846e7d7f11d button.colab-df-convert');\n",
              "      buttonEl.style.display =\n",
              "        google.colab.kernel.accessAllowed ? 'block' : 'none';\n",
              "\n",
              "      async function convertToInteractive(key) {\n",
              "        const element = document.querySelector('#df-ceeb0d7c-5dd2-47ce-8ef3-e846e7d7f11d');\n",
              "        const dataTable =\n",
              "          await google.colab.kernel.invokeFunction('convertToInteractive',\n",
              "                                                    [key], {});\n",
              "        if (!dataTable) return;\n",
              "\n",
              "        const docLinkHtml = 'Like what you see? Visit the ' +\n",
              "          '<a target=\"_blank\" href=https://colab.research.google.com/notebooks/data_table.ipynb>data table notebook</a>'\n",
              "          + ' to learn more about interactive tables.';\n",
              "        element.innerHTML = '';\n",
              "        dataTable['output_type'] = 'display_data';\n",
              "        await google.colab.output.renderOutput(dataTable, element);\n",
              "        const docLink = document.createElement('div');\n",
              "        docLink.innerHTML = docLinkHtml;\n",
              "        element.appendChild(docLink);\n",
              "      }\n",
              "    </script>\n",
              "  </div>\n",
              "\n",
              "\n",
              "<div id=\"df-3bd28326-22a3-41cd-bd82-326bdb0d3da4\">\n",
              "  <button class=\"colab-df-quickchart\" onclick=\"quickchart('df-3bd28326-22a3-41cd-bd82-326bdb0d3da4')\"\n",
              "            title=\"Suggest charts\"\n",
              "            style=\"display:none;\">\n",
              "\n",
              "<svg xmlns=\"http://www.w3.org/2000/svg\" height=\"24px\"viewBox=\"0 0 24 24\"\n",
              "     width=\"24px\">\n",
              "    <g>\n",
              "        <path d=\"M19 3H5c-1.1 0-2 .9-2 2v14c0 1.1.9 2 2 2h14c1.1 0 2-.9 2-2V5c0-1.1-.9-2-2-2zM9 17H7v-7h2v7zm4 0h-2V7h2v10zm4 0h-2v-4h2v4z\"/>\n",
              "    </g>\n",
              "</svg>\n",
              "  </button>\n",
              "\n",
              "<style>\n",
              "  .colab-df-quickchart {\n",
              "      --bg-color: #E8F0FE;\n",
              "      --fill-color: #1967D2;\n",
              "      --hover-bg-color: #E2EBFA;\n",
              "      --hover-fill-color: #174EA6;\n",
              "      --disabled-fill-color: #AAA;\n",
              "      --disabled-bg-color: #DDD;\n",
              "  }\n",
              "\n",
              "  [theme=dark] .colab-df-quickchart {\n",
              "      --bg-color: #3B4455;\n",
              "      --fill-color: #D2E3FC;\n",
              "      --hover-bg-color: #434B5C;\n",
              "      --hover-fill-color: #FFFFFF;\n",
              "      --disabled-bg-color: #3B4455;\n",
              "      --disabled-fill-color: #666;\n",
              "  }\n",
              "\n",
              "  .colab-df-quickchart {\n",
              "    background-color: var(--bg-color);\n",
              "    border: none;\n",
              "    border-radius: 50%;\n",
              "    cursor: pointer;\n",
              "    display: none;\n",
              "    fill: var(--fill-color);\n",
              "    height: 32px;\n",
              "    padding: 0;\n",
              "    width: 32px;\n",
              "  }\n",
              "\n",
              "  .colab-df-quickchart:hover {\n",
              "    background-color: var(--hover-bg-color);\n",
              "    box-shadow: 0 1px 2px rgba(60, 64, 67, 0.3), 0 1px 3px 1px rgba(60, 64, 67, 0.15);\n",
              "    fill: var(--button-hover-fill-color);\n",
              "  }\n",
              "\n",
              "  .colab-df-quickchart-complete:disabled,\n",
              "  .colab-df-quickchart-complete:disabled:hover {\n",
              "    background-color: var(--disabled-bg-color);\n",
              "    fill: var(--disabled-fill-color);\n",
              "    box-shadow: none;\n",
              "  }\n",
              "\n",
              "  .colab-df-spinner {\n",
              "    border: 2px solid var(--fill-color);\n",
              "    border-color: transparent;\n",
              "    border-bottom-color: var(--fill-color);\n",
              "    animation:\n",
              "      spin 1s steps(1) infinite;\n",
              "  }\n",
              "\n",
              "  @keyframes spin {\n",
              "    0% {\n",
              "      border-color: transparent;\n",
              "      border-bottom-color: var(--fill-color);\n",
              "      border-left-color: var(--fill-color);\n",
              "    }\n",
              "    20% {\n",
              "      border-color: transparent;\n",
              "      border-left-color: var(--fill-color);\n",
              "      border-top-color: var(--fill-color);\n",
              "    }\n",
              "    30% {\n",
              "      border-color: transparent;\n",
              "      border-left-color: var(--fill-color);\n",
              "      border-top-color: var(--fill-color);\n",
              "      border-right-color: var(--fill-color);\n",
              "    }\n",
              "    40% {\n",
              "      border-color: transparent;\n",
              "      border-right-color: var(--fill-color);\n",
              "      border-top-color: var(--fill-color);\n",
              "    }\n",
              "    60% {\n",
              "      border-color: transparent;\n",
              "      border-right-color: var(--fill-color);\n",
              "    }\n",
              "    80% {\n",
              "      border-color: transparent;\n",
              "      border-right-color: var(--fill-color);\n",
              "      border-bottom-color: var(--fill-color);\n",
              "    }\n",
              "    90% {\n",
              "      border-color: transparent;\n",
              "      border-bottom-color: var(--fill-color);\n",
              "    }\n",
              "  }\n",
              "</style>\n",
              "\n",
              "  <script>\n",
              "    async function quickchart(key) {\n",
              "      const quickchartButtonEl =\n",
              "        document.querySelector('#' + key + ' button');\n",
              "      quickchartButtonEl.disabled = true;  // To prevent multiple clicks.\n",
              "      quickchartButtonEl.classList.add('colab-df-spinner');\n",
              "      try {\n",
              "        const charts = await google.colab.kernel.invokeFunction(\n",
              "            'suggestCharts', [key], {});\n",
              "      } catch (error) {\n",
              "        console.error('Error during call to suggestCharts:', error);\n",
              "      }\n",
              "      quickchartButtonEl.classList.remove('colab-df-spinner');\n",
              "      quickchartButtonEl.classList.add('colab-df-quickchart-complete');\n",
              "    }\n",
              "    (() => {\n",
              "      let quickchartButtonEl =\n",
              "        document.querySelector('#df-3bd28326-22a3-41cd-bd82-326bdb0d3da4 button');\n",
              "      quickchartButtonEl.style.display =\n",
              "        google.colab.kernel.accessAllowed ? 'block' : 'none';\n",
              "    })();\n",
              "  </script>\n",
              "</div>\n",
              "    </div>\n",
              "  </div>\n"
            ]
          },
          "metadata": {},
          "execution_count": 1
        }
      ]
    },
    {
      "cell_type": "code",
      "source": [
        "#Mengubah data menjadi integer\n",
        "from sklearn.preprocessing import OrdinalEncoder\n",
        "ordinal_encoder = OrdinalEncoder()\n",
        "\n",
        "encoded_data = ordinal_encoder.fit_transform(df[['jenis_kelamin', 'kota_lahir','tipe_sekolah',\n",
        "                                                 'kota_sekolah','lama_studi']])\n",
        "\n",
        "encoded_data = encoded_data.astype(int)\n",
        "\n",
        "jeniskelamin_dict = {encoded_value: category_label\n",
        "                   for encoded_value, category_label\n",
        "                   in zip(encoded_data[:, 0], df['jenis_kelamin'])}\n",
        "kotalahir_dict = {encoded_value: category_label\n",
        "               for encoded_value, category_label\n",
        "               in zip(encoded_data[:, 1], df['kota_lahir'])}\n",
        "tipesekolah_dict = {encoded_value: category_label\n",
        "               for encoded_value, category_label\n",
        "               in zip(encoded_data[:, 2], df['tipe_sekolah'])}\n",
        "kotasekolah_dict = {encoded_value: category_label\n",
        "               for encoded_value, category_label\n",
        "               in zip(encoded_data[:, 3], df['kota_sekolah'])}\n",
        "lamastudi_dict = {encoded_value: category_label\n",
        "               for encoded_value, category_label\n",
        "               in zip(encoded_data[:, 4], df['lama_studi'])}\n",
        "df[['jenis_kelamin', 'kota_lahir','tipe_sekolah','kota_sekolah',\n",
        "    'lama_studi']] = encoded_data\n",
        "\n",
        "print(jeniskelamin_dict)\n",
        "print(kotalahir_dict)\n",
        "print(tipesekolah_dict)\n",
        "print(kotasekolah_dict)\n",
        "print(lamastudi_dict)"
      ],
      "metadata": {
        "colab": {
          "base_uri": "https://localhost:8080/",
          "height": 0
        },
        "id": "wi0r2jLXKan1",
        "outputId": "54c989fd-ddc8-4dc4-87ce-fd825ec0f695"
      },
      "execution_count": 2,
      "outputs": [
        {
          "output_type": "stream",
          "name": "stdout",
          "text": [
            "{1: 'Perempuan', 0: 'Laki-Laki'}\n",
            "{1: 'Luar Kota', 0: 'Dalam Kota'}\n",
            "{0: 'Kejuruan', 1: 'Umum'}\n",
            "{1: 'Luar Kota', 0: 'Dalam Kota'}\n",
            "{0: 'Tepat Waktu', 1: 'Tidak Tepat Waktu'}\n"
          ]
        }
      ]
    },
    {
      "cell_type": "code",
      "source": [
        "from sklearn.model_selection import train_test_split\n",
        "X = df.iloc[:,:-1].values\n",
        "Y = df.iloc[:,-1].values\n",
        "X_train, X_test, Y_train, Y_test = train_test_split(X,Y, test_size=0.4, random_state=1)\n",
        "print(X_test)"
      ],
      "metadata": {
        "id": "Tgr362bJsAry",
        "outputId": "cb81e98b-1803-4ca2-edec-fbf83d8db342",
        "colab": {
          "base_uri": "https://localhost:8080/",
          "height": 0
        }
      },
      "execution_count": 3,
      "outputs": [
        {
          "output_type": "stream",
          "name": "stdout",
          "text": [
            "[[3 0 0 1 0]\n",
            " [4 0 1 1 1]\n",
            " [4 0 1 1 1]\n",
            " [2 0 1 0 1]\n",
            " [3 1 0 1 0]\n",
            " [3 1 0 0 0]\n",
            " [2 1 0 1 0]\n",
            " [2 0 0 1 0]]\n"
          ]
        }
      ]
    },
    {
      "cell_type": "code",
      "source": [
        "from sklearn.naive_bayes import GaussianNB\n",
        "\n",
        "model = GaussianNB()\n",
        "\n",
        "model.fit(X_train, Y_train);\n",
        "\n",
        "y_pred = model.predict(X_test)"
      ],
      "metadata": {
        "id": "Mg-c72Xm6YSC"
      },
      "execution_count": 4,
      "outputs": []
    },
    {
      "cell_type": "code",
      "source": [
        "print(\"Hasil Prediksi:\",y_pred)\n",
        "print(\"Nilai Sebenarnya:\",Y_test)"
      ],
      "metadata": {
        "colab": {
          "base_uri": "https://localhost:8080/",
          "height": 0
        },
        "id": "XAFBP_07677O",
        "outputId": "a431f1e2-8bdd-44f0-d07b-44bbc4d44b0f"
      },
      "execution_count": 5,
      "outputs": [
        {
          "output_type": "stream",
          "name": "stdout",
          "text": [
            "Hasil Prediksi: [0 1 1 1 0 1 0 1]\n",
            "Nilai Sebenarnya: [0 0 1 1 0 1 0 0]\n"
          ]
        }
      ]
    },
    {
      "cell_type": "code",
      "source": [
        "from sklearn.metrics import (\n",
        "    accuracy_score,\n",
        "    confusion_matrix,\n",
        "    f1_score,\n",
        ")\n",
        "\n",
        "accuray = accuracy_score(y_pred, Y_test)\n",
        "f1 = f1_score(y_pred, Y_test, average=\"weighted\")\n",
        "\n",
        "print(\"Confussion matrix:\\n\", confusion_matrix(y_pred, Y_test))\n",
        "print(\"Accuracy:\", accuray)\n",
        "print(\"F1 Score:\", f1)"
      ],
      "metadata": {
        "colab": {
          "base_uri": "https://localhost:8080/",
          "height": 0
        },
        "id": "r3HopL6auLHZ",
        "outputId": "bc21bbe4-3432-488b-854a-d1f9f04f6002"
      },
      "execution_count": 6,
      "outputs": [
        {
          "output_type": "stream",
          "name": "stdout",
          "text": [
            "Confussion matrix:\n",
            " [[3 0]\n",
            " [2 3]]\n",
            "Accuracy: 0.75\n",
            "F1 Score: 0.7499999999999999\n"
          ]
        }
      ]
    },
    {
      "cell_type": "code",
      "source": [
        "import matplotlib.pyplot as plt\n",
        "from sklearn.decomposition import PCA\n",
        "from matplotlib.colors import ListedColormap\n",
        "# Menggunakan PCA untuk mereduksi dimensi ke 2\n",
        "pca = PCA(n_components=2)\n",
        "X_train_pca = pca.fit_transform(X_train)\n",
        "\n",
        "# Membuat meshgrid untuk memvisualisasikan batas keputusan\n",
        "x1_min, x1_max = X_train_pca[:, 0].min() - 1, X_train_pca[:, 0].max() + 1\n",
        "x2_min, x2_max = X_train_pca[:, 1].min() - 1, X_train_pca[:, 1].max() + 1\n",
        "xx, yy = np.meshgrid(np.arange(x1_min, x1_max, 0.01), np.arange(x2_min, x2_max, 0.01))\n",
        "\n",
        "# Melatih model Naive Bayes pada data yang direduksi dimensinya\n",
        "model.fit(X_train_pca, Y_train)\n",
        "\n",
        "# Menggunakan model untuk memprediksi kategori pada setiap titik pada meshgrid\n",
        "Z = model.predict(np.c_[xx.ravel(), yy.ravel()])\n",
        "Z = Z.reshape(xx.shape)\n",
        "\n",
        "# Plotting contour plot\n",
        "cmap_background = ListedColormap(['#FFAAAA', '#AAFFAA'])\n",
        "plt.contourf(xx, yy, Z, alpha=0.75, cmap=cmap_background)\n",
        "\n",
        "# Plotting scatter plot untuk data latih yang direduksi dimensinya\n",
        "cmap_points = ListedColormap(['red', 'green'])\n",
        "for i, j in enumerate(np.unique(Y_train)):\n",
        "    plt.scatter(X_train_pca[Y_train == j, 0], X_train_pca[Y_train == j, 1],\n",
        "                c=cmap_points(i), label=j)\n",
        "\n",
        "plt.title('Batas Keputusan Naive Bayes dengan PCA (Data Latih)')\n",
        "plt.xlabel('Principal Component 1')\n",
        "plt.ylabel('Principal Component 2')\n",
        "plt.legend()\n",
        "plt.show()"
      ],
      "metadata": {
        "colab": {
          "base_uri": "https://localhost:8080/",
          "height": 527
        },
        "id": "A5HhhxBZMEZv",
        "outputId": "d8a7c2b2-209f-438f-db61-e3e7ba48d4c5"
      },
      "execution_count": 7,
      "outputs": [
        {
          "output_type": "stream",
          "name": "stderr",
          "text": [
            "<ipython-input-7-1c5f697a2094>:27: UserWarning: *c* argument looks like a single numeric RGB or RGBA sequence, which should be avoided as value-mapping will have precedence in case its length matches with *x* & *y*.  Please use the *color* keyword-argument or provide a 2D array with a single row if you intend to specify the same RGB or RGBA value for all points.\n",
            "  plt.scatter(X_train_pca[Y_train == j, 0], X_train_pca[Y_train == j, 1],\n"
          ]
        },
        {
          "output_type": "display_data",
          "data": {
            "text/plain": [
              "<Figure size 640x480 with 1 Axes>"
            ],
            "image/png": "[encoded data removed]"
          },
          "metadata": {}
        }
      ]
    },
    {
      "cell_type": "code",
      "source": [],
      "metadata": {
        "id": "9Pdlj8D7MMdD"
      },
      "execution_count": 7,
      "outputs": []
    }
  ]
}