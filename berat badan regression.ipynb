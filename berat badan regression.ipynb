{
  "nbformat": 4,
  "nbformat_minor": 0,
  "metadata": {
    "colab": {
      "provenance": [],
      "authorship_tag": "ABX9TyMXBxlwdKbFY75ASstpsN3V",
      "include_colab_link": true
    },
    "kernelspec": {
      "name": "python3",
      "display_name": "Python 3"
    },
    "language_info": {
      "name": "python"
    }
  },
  "cells": [
    {
      "cell_type": "markdown",
      "metadata": {
        "id": "view-in-github",
        "colab_type": "text"
      },
      "source": [
        "<a href=\"https://colab.research.google.com/github/nilamaula26/Praktikum-Kuliah/blob/main/berat%20badan%20regression.ipynb\" target=\"_parent\"><img src=\"https://colab.research.google.com/assets/colab-badge.svg\" alt=\"Open In Colab\"/></a>"
      ]
    },
    {
      "cell_type": "code",
      "execution_count": 4,
      "metadata": {
        "colab": {
          "base_uri": "https://localhost:8080/"
        },
        "id": "OMqn_QoxmfpR",
        "outputId": "8698a2c0-3923-4c84-a7dd-bca44ba7b509"
      },
      "outputs": [
        {
          "output_type": "stream",
          "name": "stdout",
          "text": [
            "[63, 81, 56, 91, 47, 57, 76, 72, 62, 48]\n"
          ]
        }
      ],
      "source": [
        "from scipy import stats\n",
        "x = [151, 174, 138, 186, 128, 136, 179, 163, 152, 131]\n",
        "y = [63, 81, 56, 91, 47, 57, 76, 72, 62, 48]\n",
        "print(y)"
      ]
    },
    {
      "cell_type": "code",
      "source": [
        "slope, intercepts, r, p, std_err = stats.linregress(x,y)"
      ],
      "metadata": {
        "id": "KEe8n-rKmsGX"
      },
      "execution_count": 5,
      "outputs": []
    },
    {
      "cell_type": "code",
      "source": [
        "def myfunc(x):\n",
        "  return slope*x+intercepts"
      ],
      "metadata": {
        "id": "i5M0g6-uoE5g"
      },
      "execution_count": 6,
      "outputs": []
    },
    {
      "cell_type": "code",
      "source": [
        "berat_badan = myfunc(153)\n",
        "print(berat_badan)"
      ],
      "metadata": {
        "colab": {
          "base_uri": "https://localhost:8080/"
        },
        "id": "L63EEut9oPE-",
        "outputId": "5096beaa-b040-49d3-8b1e-00b8050569fe"
      },
      "execution_count": 7,
      "outputs": [
        {
          "output_type": "stream",
          "name": "stdout",
          "text": [
            "64.7603116406966\n"
          ]
        }
      ]
    }
  ]
}